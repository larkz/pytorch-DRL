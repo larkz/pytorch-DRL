{
 "cells": [
  {
   "cell_type": "code",
   "execution_count": 11,
   "metadata": {},
   "outputs": [
    {
     "name": "stdout",
     "output_type": "stream",
     "text": [
      "True\n",
      "1\n",
      "0\n",
      "GeForce RTX 3080 Ti\n"
     ]
    }
   ],
   "source": [
    "import torch\n",
    "\n",
    "print(torch.cuda.is_available())\n",
    "print(torch.cuda.device_count())\n",
    "print(torch.cuda.current_device())\n",
    "print(torch.cuda.get_device_name(torch.cuda.current_device()))"
   ]
  },
  {
   "cell_type": "code",
   "execution_count": null,
   "metadata": {},
   "outputs": [],
   "source": [
    "!pip install --ignore-installed --upgrade tensorflow-gpu\n"
   ]
  },
  {
   "cell_type": "code",
   "execution_count": null,
   "metadata": {},
   "outputs": [
    {
     "name": "stdout",
     "output_type": "stream",
     "text": [
      "/workspace/liul-storage/pytorch-DRL/common/Model.py:21: UserWarning: Implicit dimension choice for log_softmax has been deprecated. Change the call to include dim=X as an argument.\n",
      "  out = self.output_act(self.fc3(out))\n",
      "Episode 100, Average Reward 98.70\n",
      "Episode 200, Average Reward 59.00\n",
      "Episode 300, Average Reward 125.80\n",
      "Episode 400, Average Reward 188.30\n",
      "Episode 500, Average Reward 144.80\n",
      "Episode 600, Average Reward 121.20\n",
      "Episode 700, Average Reward 55.80\n",
      "Episode 800, Average Reward 113.70\n",
      "Episode 900, Average Reward 200.00\n",
      "Episode 1000, Average Reward 200.00\n",
      "Episode 1100, Average Reward 182.60\n",
      "Episode 1200, Average Reward 193.40\n",
      "Episode 1300, Average Reward 192.80\n",
      "Episode 1400, Average Reward 133.90\n",
      "Episode 1500, Average Reward 185.80\n",
      "Episode 1600, Average Reward 198.30\n",
      "Episode 1700, Average Reward 200.00\n",
      "Episode 1800, Average Reward 173.40\n",
      "Episode 1900, Average Reward 200.00\n",
      "Episode 2000, Average Reward 162.30\n",
      "Episode 2100, Average Reward 200.00\n",
      "Episode 2200, Average Reward 200.00\n",
      "Episode 2300, Average Reward 200.00\n",
      "Episode 2400, Average Reward 200.00\n",
      "Episode 2500, Average Reward 200.00\n",
      "Episode 2600, Average Reward 200.00\n",
      "Episode 2700, Average Reward 200.00\n",
      "Episode 2800, Average Reward 200.00\n",
      "Episode 2900, Average Reward 196.00\n",
      "Episode 3000, Average Reward 189.60\n",
      "Episode 3100, Average Reward 200.00\n",
      "Episode 3200, Average Reward 200.00\n",
      "Episode 3300, Average Reward 200.00\n",
      "Episode 3400, Average Reward 200.00\n",
      "Episode 3500, Average Reward 200.00\n",
      "Episode 3600, Average Reward 78.30\n",
      "Episode 3700, Average Reward 200.00\n",
      "Episode 3800, Average Reward 200.00\n",
      "Episode 3900, Average Reward 200.00\n",
      "Episode 4000, Average Reward 200.00\n",
      "Episode 4100, Average Reward 200.00\n",
      "Episode 4200, Average Reward 200.00\n",
      "Episode 4300, Average Reward 200.00\n",
      "Episode 4400, Average Reward 200.00\n",
      "Episode 4500, Average Reward 198.80\n",
      "Episode 4600, Average Reward 200.00\n",
      "Episode 4700, Average Reward 200.00\n",
      "Episode 4800, Average Reward 200.00\n",
      "Episode 4900, Average Reward 200.00\n",
      "Episode 5000, Average Reward 200.00\n"
     ]
    }
   ],
   "source": [
    "!python run_ppo.py"
   ]
  },
  {
   "cell_type": "code",
   "execution_count": 19,
   "metadata": {},
   "outputs": [
    {
     "name": "stdout",
     "output_type": "stream",
     "text": [
      "/workspace/liul-storage/pytorch-DRL/common/Model.py:21: UserWarning: Implicit dimension choice for log_softmax has been deprecated. Change the call to include dim=X as an argument.\n",
      "  out = self.output_act(self.fc3(out))\n",
      "[0, 0]\n",
      "[1, 1]\n",
      "[0, 1]\n",
      "[1, 0]\n",
      "[0, 0]\n",
      "[1, 0]\n",
      "[1, 1]\n",
      "[0, 0]\n",
      "[1, 1]\n",
      "[1, 1]\n",
      "[0, 0]\n",
      "[0, 0]\n",
      "rewards\n",
      "[[1. 1. 1. 1. 1. 1.]\n",
      " [1. 1. 1. 1. 1. 1.]]\n",
      "Traceback (most recent call last):\n",
      "  File \"run_maa2c.py\", line 94, in <module>\n",
      "    run()\n",
      "  File \"run_maa2c.py\", line 67, in run\n",
      "    a2c.train()\n",
      "  File \"/workspace/liul-storage/pytorch-DRL/MAA2C.py\", line 185, in train\n",
      "    values = self.critics[agent_id](states_var[:,agent_id,:], actions_var[:,agent_id,:])\n",
      "  File \"/workspace/liul-storage/pytorch-DRL/common/Model.py\", line 37, in __call__\n",
      "    out = th.cat([out, action], 1)\n",
      "RuntimeError: Sizes of tensors must match except in dimension 1. Expected size 1 but got size 2 for tensor number 1 in the list.\n"
     ]
    }
   ],
   "source": [
    "!python run_maa2c.py"
   ]
  },
  {
   "cell_type": "code",
   "execution_count": null,
   "metadata": {},
   "outputs": [],
   "source": []
  }
 ],
 "metadata": {
  "kernelspec": {
   "display_name": "Python 3 (ipykernel)",
   "language": "python",
   "name": "python3"
  },
  "language_info": {
   "codemirror_mode": {
    "name": "ipython",
    "version": 3
   },
   "file_extension": ".py",
   "mimetype": "text/x-python",
   "name": "python",
   "nbconvert_exporter": "python",
   "pygments_lexer": "ipython3",
   "version": "3.8.12"
  },
  "orig_nbformat": 4
 },
 "nbformat": 4,
 "nbformat_minor": 2
}
